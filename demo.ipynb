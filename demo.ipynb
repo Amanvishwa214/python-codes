{
 "cells": [
  {
   "cell_type": "code",
   "execution_count": 7,
   "metadata": {},
   "outputs": [
    {
     "name": "stdout",
     "output_type": "stream",
     "text": [
      "8\n",
      "7\n"
     ]
    }
   ],
   "source": [
    "list = [2,7,4,8]\n",
    "largest = 0\n",
    "second_largest = 0\n",
    "\n",
    "for i in list:\n",
    "    if i >largest:\n",
    "        second_largest = largest\n",
    "        largest = i\n",
    "    elif i > second_largest  and i < largest:\n",
    "        second_largest = i       \n",
    "print(largest)\n",
    "print(second_largest)"
   ]
  }
 ],
 "metadata": {
  "kernelspec": {
   "display_name": "Python 3",
   "language": "python",
   "name": "python3"
  },
  "language_info": {
   "codemirror_mode": {
    "name": "ipython",
    "version": 3
   },
   "file_extension": ".py",
   "mimetype": "text/x-python",
   "name": "python",
   "nbconvert_exporter": "python",
   "pygments_lexer": "ipython3",
   "version": "3.12.2"
  }
 },
 "nbformat": 4,
 "nbformat_minor": 2
}
